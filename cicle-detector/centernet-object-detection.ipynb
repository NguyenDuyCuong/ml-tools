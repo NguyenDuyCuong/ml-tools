{
 "cells": [
  {
   "cell_type": "code",
   "execution_count": 1,
   "id": "ef55982e",
   "metadata": {},
   "outputs": [],
   "source": [
    "import torch\n",
    "import cv2\n",
    "import numpy as np\n",
    "from matplotlib import pyplot as plt"
   ]
  },
  {
   "cell_type": "code",
   "execution_count": 2,
   "id": "70d0ad63",
   "metadata": {},
   "outputs": [
    {
     "name": "stderr",
     "output_type": "stream",
     "text": [
      "Downloading: \"https://github.com/facebookresearch/detectron2/zipball/main\" to C:\\Users\\cuong/.cache\\torch\\hub\\main.zip\n"
     ]
    },
    {
     "ename": "FileNotFoundError",
     "evalue": "[Errno 2] No such file or directory: 'C:\\\\Users\\\\cuong/.cache\\\\torch\\\\hub\\\\facebookresearch_detectron2_main\\\\hubconf.py'",
     "output_type": "error",
     "traceback": [
      "\u001b[31m---------------------------------------------------------------------------\u001b[39m",
      "\u001b[31mFileNotFoundError\u001b[39m                         Traceback (most recent call last)",
      "\u001b[36mCell\u001b[39m\u001b[36m \u001b[39m\u001b[32mIn[2]\u001b[39m\u001b[32m, line 2\u001b[39m\n\u001b[32m      1\u001b[39m \u001b[38;5;66;03m# Load CenterNet pretrained model từ torch hub\u001b[39;00m\n\u001b[32m----> \u001b[39m\u001b[32m2\u001b[39m model = \u001b[43mtorch\u001b[49m\u001b[43m.\u001b[49m\u001b[43mhub\u001b[49m\u001b[43m.\u001b[49m\u001b[43mload\u001b[49m\u001b[43m(\u001b[49m\u001b[33;43m'\u001b[39;49m\u001b[33;43mfacebookresearch/detectron2\u001b[39;49m\u001b[33;43m'\u001b[39;49m\u001b[43m,\u001b[49m\u001b[43m \u001b[49m\u001b[33;43m'\u001b[39;49m\u001b[33;43mCenterNet_HG\u001b[39;49m\u001b[33;43m'\u001b[39;49m\u001b[43m,\u001b[49m\u001b[43m \u001b[49m\u001b[43mpretrained\u001b[49m\u001b[43m=\u001b[49m\u001b[38;5;28;43;01mTrue\u001b[39;49;00m\u001b[43m)\u001b[49m\n\u001b[32m      3\u001b[39m model.eval()\n",
      "\u001b[36mFile \u001b[39m\u001b[32mc:\\Users\\cuong\\workspace\\ml-tools\\cicle-detector\\.venv\\Lib\\site-packages\\torch\\hub.py:647\u001b[39m, in \u001b[36mload\u001b[39m\u001b[34m(repo_or_dir, model, source, trust_repo, force_reload, verbose, skip_validation, *args, **kwargs)\u001b[39m\n\u001b[32m    637\u001b[39m \u001b[38;5;28;01mif\u001b[39;00m source == \u001b[33m\"\u001b[39m\u001b[33mgithub\u001b[39m\u001b[33m\"\u001b[39m:\n\u001b[32m    638\u001b[39m     repo_or_dir = _get_cache_or_reload(\n\u001b[32m    639\u001b[39m         repo_or_dir,\n\u001b[32m    640\u001b[39m         force_reload,\n\u001b[32m   (...)\u001b[39m\u001b[32m    644\u001b[39m         skip_validation=skip_validation,\n\u001b[32m    645\u001b[39m     )\n\u001b[32m--> \u001b[39m\u001b[32m647\u001b[39m model = \u001b[43m_load_local\u001b[49m\u001b[43m(\u001b[49m\u001b[43mrepo_or_dir\u001b[49m\u001b[43m,\u001b[49m\u001b[43m \u001b[49m\u001b[43mmodel\u001b[49m\u001b[43m,\u001b[49m\u001b[43m \u001b[49m\u001b[43m*\u001b[49m\u001b[43margs\u001b[49m\u001b[43m,\u001b[49m\u001b[43m \u001b[49m\u001b[43m*\u001b[49m\u001b[43m*\u001b[49m\u001b[43mkwargs\u001b[49m\u001b[43m)\u001b[49m\n\u001b[32m    648\u001b[39m \u001b[38;5;28;01mreturn\u001b[39;00m model\n",
      "\u001b[36mFile \u001b[39m\u001b[32mc:\\Users\\cuong\\workspace\\ml-tools\\cicle-detector\\.venv\\Lib\\site-packages\\torch\\hub.py:673\u001b[39m, in \u001b[36m_load_local\u001b[39m\u001b[34m(hubconf_dir, model, *args, **kwargs)\u001b[39m\n\u001b[32m    671\u001b[39m \u001b[38;5;28;01mwith\u001b[39;00m _add_to_sys_path(hubconf_dir):\n\u001b[32m    672\u001b[39m     hubconf_path = os.path.join(hubconf_dir, MODULE_HUBCONF)\n\u001b[32m--> \u001b[39m\u001b[32m673\u001b[39m     hub_module = \u001b[43m_import_module\u001b[49m\u001b[43m(\u001b[49m\u001b[43mMODULE_HUBCONF\u001b[49m\u001b[43m,\u001b[49m\u001b[43m \u001b[49m\u001b[43mhubconf_path\u001b[49m\u001b[43m)\u001b[49m\n\u001b[32m    675\u001b[39m     entry = _load_entry_from_hubconf(hub_module, model)\n\u001b[32m    676\u001b[39m     model = entry(*args, **kwargs)\n",
      "\u001b[36mFile \u001b[39m\u001b[32mc:\\Users\\cuong\\workspace\\ml-tools\\cicle-detector\\.venv\\Lib\\site-packages\\torch\\hub.py:115\u001b[39m, in \u001b[36m_import_module\u001b[39m\u001b[34m(name, path)\u001b[39m\n\u001b[32m    113\u001b[39m module = importlib.util.module_from_spec(spec)\n\u001b[32m    114\u001b[39m \u001b[38;5;28;01massert\u001b[39;00m \u001b[38;5;28misinstance\u001b[39m(spec.loader, Loader)\n\u001b[32m--> \u001b[39m\u001b[32m115\u001b[39m \u001b[43mspec\u001b[49m\u001b[43m.\u001b[49m\u001b[43mloader\u001b[49m\u001b[43m.\u001b[49m\u001b[43mexec_module\u001b[49m\u001b[43m(\u001b[49m\u001b[43mmodule\u001b[49m\u001b[43m)\u001b[49m\n\u001b[32m    116\u001b[39m \u001b[38;5;28;01mreturn\u001b[39;00m module\n",
      "\u001b[36mFile \u001b[39m\u001b[32m<frozen importlib._bootstrap_external>:1018\u001b[39m, in \u001b[36mexec_module\u001b[39m\u001b[34m(self, module)\u001b[39m\n",
      "\u001b[36mFile \u001b[39m\u001b[32m<frozen importlib._bootstrap_external>:1155\u001b[39m, in \u001b[36mget_code\u001b[39m\u001b[34m(self, fullname)\u001b[39m\n",
      "\u001b[36mFile \u001b[39m\u001b[32m<frozen importlib._bootstrap_external>:1213\u001b[39m, in \u001b[36mget_data\u001b[39m\u001b[34m(self, path)\u001b[39m\n",
      "\u001b[31mFileNotFoundError\u001b[39m: [Errno 2] No such file or directory: 'C:\\\\Users\\\\cuong/.cache\\\\torch\\\\hub\\\\facebookresearch_detectron2_main\\\\hubconf.py'"
     ]
    }
   ],
   "source": [
    "# Load CenterNet pretrained model từ torch hub\n",
    "model = torch.hub.load('facebookresearch/detectron2', 'CenterNet_HG', pretrained=True)\n",
    "model.eval()"
   ]
  },
  {
   "cell_type": "code",
   "execution_count": null,
   "id": "69f007ca",
   "metadata": {},
   "outputs": [],
   "source": [
    "# Load ảnh và xử lý\n",
    "image_path = 'images\\\\bo du lieu bia so 4\\\\bia4 (1).bmp'\n",
    "img = cv2.imread(image_path)\n",
    "img_rgb = cv2.cvtColor(img, cv2.COLOR_BGR2RGB)\n",
    "img_resized = cv2.resize(img_rgb, (640, 640))  # CenterNet yêu cầu ảnh vuông\n",
    "img_tensor = torch.from_numpy(img_resized / 255.).permute(2, 0, 1).unsqueeze(0).float()"
   ]
  },
  {
   "cell_type": "code",
   "execution_count": null,
   "id": "4cc99326",
   "metadata": {},
   "outputs": [],
   "source": [
    "# Dự đoán\n",
    "with torch.no_grad():\n",
    "    outputs = model(img_tensor)[0]  # lấy batch[0]"
   ]
  },
  {
   "cell_type": "code",
   "execution_count": null,
   "id": "d0b7ed6a",
   "metadata": {},
   "outputs": [],
   "source": [
    "# Hiển thị kết quả\n",
    "for box in outputs['boxes']:\n",
    "    x1, y1, x2, y2 = map(int, box.tolist())\n",
    "    cv2.rectangle(img_resized, (x1, y1), (x2, y2), (0, 255, 0), 2)\n",
    "\n",
    "# Hiển thị\n",
    "plt.imshow(img_resized)\n",
    "plt.axis('off')\n",
    "plt.title(\"Detected objects with CenterNet\")\n",
    "plt.show()"
   ]
  }
 ],
 "metadata": {
  "kernelspec": {
   "display_name": ".venv",
   "language": "python",
   "name": "python3"
  },
  "language_info": {
   "codemirror_mode": {
    "name": "ipython",
    "version": 3
   },
   "file_extension": ".py",
   "mimetype": "text/x-python",
   "name": "python",
   "nbconvert_exporter": "python",
   "pygments_lexer": "ipython3",
   "version": "3.13.0"
  }
 },
 "nbformat": 4,
 "nbformat_minor": 5
}
