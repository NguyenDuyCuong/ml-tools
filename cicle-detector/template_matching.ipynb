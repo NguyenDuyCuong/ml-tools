{
 "cells": [
  {
   "cell_type": "markdown",
   "metadata": {},
   "source": [
    "# Template Matching Techniques\n",
    "# Author: CuongND"
   ]
  },
  {
   "cell_type": "code",
   "execution_count": null,
   "metadata": {},
   "outputs": [],
   "source": [
    "import os\n",
    "import cv2\n",
    "import numpy as np\n",
    "import matplotlib.pyplot as plt\n",
    "from glob import glob"
   ]
  },
  {
   "cell_type": "markdown",
   "metadata": {},
   "source": [
    "## Polar Coordinate Transformation"
   ]
  },
  {
   "cell_type": "code",
   "execution_count": null,
   "metadata": {},
   "outputs": [],
   "source": [
    "def convert_to_polar(img, center=None, flags=cv2.WARP_FILL_OUTLIERS):\n",
    "    \"\"\"Convert image to polar coordinates\"\"\"\n",
    "    if center is None:\n",
    "        center = (img.shape[1]//2, img.shape[0]//2)\n",
    "    max_radius = min(center[0], center[1], img.shape[1]-center[0], img.shape[0]-center[1])\n",
    "    return cv2.linearPolar(img, center, max_radius, flags)"
   ]
  },
  {
   "cell_type": "markdown",
   "metadata": {},
   "source": [
    "## Template Matching Functions"
   ]
  },
  {
   "cell_type": "code",
   "execution_count": null,
   "metadata": {},
   "outputs": [],
   "source": [
    "def apply_template_matching(img, template, method=cv2.TM_CCOEFF_NORMED, use_polar=False):\n",
    "    \"\"\"Apply template matching using specified method\"\"\"\n",
    "    if use_polar:\n",
    "        img = convert_to_polar(img)\n",
    "        template = convert_to_polar(template)\n",
    "        \n",
    "    if len(img.shape) == 3:\n",
    "        img_gray = cv2.cvtColor(img, cv2.COLOR_BGR2GRAY)\n",
    "    else:\n",
    "        img_gray = img\n",
    "        \n",
    "    if len(template.shape) == 3:\n",
    "        template_gray = cv2.cvtColor(template, cv2.COLOR_BGR2GRAY)\n",
    "    else:\n",
    "        template_gray = template\n",
    "    \n",
    "    res = cv2.matchTemplate(img_gray, template_gray, method)\n",
    "    min_val, max_val, min_loc, max_loc = cv2.minMaxLoc(res)\n",
    "    \n",
    "    return {\n",
    "        'result': res,\n",
    "        'min_val': min_val,\n",
    "        'max_val': max_val,\n",
    "        'min_loc': min_loc,\n",
    "        'max_loc': max_loc\n",
    "    }"
   ]
  },
  {
   "cell_type": "code",
   "execution_count": null,
   "metadata": {},
   "outputs": [],
   "source": [
    "def apply_multi_scale_template_matching(img, template, scales=[1.0], method=cv2.TM_CCOEFF_NORMED, use_polar=False, grayscale=True):\n",
    "    \"\"\"Apply template matching at multiple scales\"\"\"\n",
    "    results = []\n",
    "    for scale in scales:\n",
    "        h, w = template.shape[:2]\n",
    "        resized_template = cv2.resize(template, (int(w * scale), int(h * scale)))\n",
    "        \n",
    "        res = apply_template_matching(img, resized_template, method, use_polar)\n",
    "        results.append({\n",
    "            'scale': scale,\n",
    "            'result': res['result'],\n",
    "            'max_val': res['max_val'],\n",
    "            'max_loc': res['max_loc'],\n",
    "            'template_size': resized_template.shape[:2]\n",
    "        })\n",
    "    \n",
    "    best_match = max(results, key=lambda x: x['max_val'])\n",
    "    return best_match"
   ]
  },
  {
   "cell_type": "markdown",
   "metadata": {},
   "source": [
    "## Image Loading and Processing"
   ]
  },
  {
   "cell_type": "code",
   "execution_count": null,
   "metadata": {},
   "outputs": [],
   "source": [
    "def load_images(input_folder, template_path=None, use_polar=True, grayscale=True):\n",
    "    \"\"\"Load and process all images from folder\"\"\"\n",
    "    image_paths = glob(os.path.join(input_folder, '**/*.*'), recursive=True)\n",
    "    image_paths = [p for p in image_paths if p.lower().endswith(('.png', '.jpg', '.jpeg', '.bmp'))]\n",
    "    \n",
    "    template = None\n",
    "    if template_path:\n",
    "        template = cv2.imread(template_path)\n",
    "        if template is None:\n",
    "            print(f\"Warning: Could not load template from {template_path}\")\n",
    "    \n",
    "    results = []\n",
    "    for img_path in image_paths:\n",
    "        img = cv2.imread(img_path)\n",
    "        if img is not None:\n",
    "            img_rgb = cv2.cvtColor(img, cv2.COLOR_BGR2RGB)\n",
    "            \n",
    "            if template is not None:\n",
    "                res_ccoeff = apply_template_matching(img, template, cv2.TM_CCOEFF_NORMED, use_polar)\n",
    "                res_ccorr = apply_template_matching(img, template, cv2.TM_CCORR_NORMED, use_polar)\n",
    "                res_sqdiff = apply_template_matching(img, template, cv2.TM_SQDIFF_NORMED, use_polar)\n",
    "                \n",
    "                multi_scale = apply_multi_scale_template_matching(img, template, \n",
    "                                scales=[0.8, 0.9, 1.0, 1.1, 1.2], \n",
    "                                method=cv2.TM_CCOEFF_NORMED,\n",
    "                                use_polar=True)\n",
    "                \n",
    "                results.append({\n",
    "                    'original': img_rgb,\n",
    "                    'ccoeff': res_ccoeff,\n",
    "                    'ccorr': res_ccorr,\n",
    "                    'sqdiff': res_sqdiff,\n",
    "                    'multi_scale': multi_scale,\n",
    "                    'name': os.path.basename(img_path),\n",
    "                    'template': cv2.cvtColor(template, cv2.COLOR_BGR2RGB) if template is not None else None\n",
    "                })\n",
    "            else:\n",
    "                results.append({\n",
    "                    'original': img_rgb,\n",
    "                    'name': os.path.basename(img_path)\n",
    "                })\n",
    "    return results"
   ]
  },
  {
   "cell_type": "markdown",
   "metadata": {},
   "source": [
    "## Results Visualization"
   ]
  },
  {
   "cell_type": "code",
   "execution_count": null,
   "metadata": {},
   "outputs": [],
   "source": [
    "def display_results(results, num_images=5, start_index=0):\n",
    "    \"\"\"Display comparison results for all template matching types\"\"\"\n",
    "    if not results:\n",
    "        print(\"No images to display\")\n",
    "        return\n",
    "    \n",
    "    start_index = max(0, min(start_index, len(results)-1))\n",
    "    end_index = min(start_index + num_images, len(results))\n",
    "    display_images = results[start_index:end_index]\n",
    "    \n",
    "    plt.figure(figsize=(35, 5*len(display_images)))\n",
    "    for i, result in enumerate(display_images):\n",
    "        plt.subplot(len(display_images), 5, 5*i+1)\n",
    "        plt.imshow(result['original'])\n",
    "        plt.title(f\"Original\\n{result['name']}\")\n",
    "        plt.axis('off')\n",
    "        \n",
    "        if 'template' in result and result['template'] is not None:\n",
    "            plt.subplot(len(display_images), 5, 5*i+2)\n",
    "            plt.imshow(result['template'])\n",
    "            plt.title(\"Template\")\n",
    "            plt.axis('off')\n",
    "        \n",
    "        if 'ccoeff' in result:\n",
    "            plt.subplot(len(display_images), 5, 5*i+3)\n",
    "            plt.imshow(result['original'])\n",
    "            \n",
    "            h, w = result['template'].shape[:2] if 'template' in result else (50, 50)\n",
    "            top_left = result['ccoeff']['max_loc']\n",
    "            bottom_right = (top_left[0] + w, top_left[1] + h)\n",
    "            cv2.rectangle(result['original'], top_left, bottom_right, (0,255,0), 2)\n",
    "            \n",
    "            plt.imshow(result['original'])\n",
    "            plt.title(f\"CCOEFF (score: {result['ccoeff']['max_val']:.2f})\")\n",
    "            plt.axis('off')\n",
    "        \n",
    "        if 'multi_scale' in result:\n",
    "            plt.subplot(len(display_images), 5, 5*i+4)\n",
    "            plt.imshow(result['original'])\n",
    "            \n",
    "            h, w = result['multi_scale']['template_size']\n",
    "            top_left = result['multi_scale']['max_loc']\n",
    "            bottom_right = (top_left[0] + w, top_left[1] + h)\n",
    "            cv2.rectangle(result['original'], top_left, bottom_right, (255,0,0), 2)\n",
    "            \n",
    "            plt.imshow(result['original'])\n",
    "            plt.title(f\"Multi-scale (score: {result['multi_scale']['max_val']:.2f})\")\n",
    "            plt.axis('off')\n",
    "        \n",
    "        if 'ccoeff' in result:\n",
    "            plt.subplot(len(display_images), 5, 5*i+5)\n",
    "            plt.imshow(result['ccoeff']['result'], cmap='hot')\n",
    "            plt.title(\"Matching Heatmap\")\n",
    "            plt.colorbar()\n",
    "            plt.axis('off')\n",
    "    \n",
    "    plt.tight_layout()\n",
    "    plt.show()"
   ]
  },
  {
   "cell_type": "markdown",
   "metadata": {},
   "source": [
    "## Example Usage"
   ]
  },
  {
   "cell_type": "code",
   "execution_count": null,
   "metadata": {},
   "outputs": [],
   "source": [
    "# Example usage with polar coordinate transformation\n",
    "template_path = 'images/templates/bia4.png'\n",
    "bia4_results = load_images('images\\\\bo du lieu bia so 4\\\\train', template_path)\n",
    "display_results(bia4_results, num_images=5, start_index=5)\n",
    "\n",
    "template_path = 'images/templates/bia7.png'\n",
    "bia7_results = load_images('images\\\\bo du lieu bia so 7\\\\train', template_path)\n",
    "display_results(bia7_results, num_images=5, start_index=5)"
   ]
  }
 ],
 "metadata": {
  "kernelspec": {
   "display_name": ".venv",
   "language": "python",
   "name": "python3"
  },
  "language_info": {
   "codemirror_mode": {
    "name": "ipython",
    "version": 3
   },
   "file_extension": ".py",
   "mimetype": "text/x-python",
   "name": "python",
   "nbconvert_exporter": "python",
   "pygments_lexer": "ipython3",
   "version": "3.13.0"
  }
 },
 "nbformat": 4,
 "nbformat_minor": 4
}
